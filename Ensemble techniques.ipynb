{
 "cells": [
  {
   "cell_type": "code",
   "execution_count": 1,
   "id": "e305d676",
   "metadata": {},
   "outputs": [],
   "source": [
    "#lets load the required libraries\n",
    "from sklearn.datasets import make_moons\n",
    "from sklearn.metrics import accuracy_score\n",
    "from sklearn.model_selection import train_test_split\n",
    "from sklearn.tree import DecisionTreeClassifier\n",
    "from sklearn.ensemble import RandomForestClassifier, AdaBoostClassifier, GradientBoostingClassifier"
   ]
  },
  {
   "cell_type": "code",
   "execution_count": 2,
   "id": "1b08bcb8",
   "metadata": {},
   "outputs": [],
   "source": [
    "#lets create the dataset\n",
    "x,y = make_moons(n_samples = 10000, noise = 0.5, random_state=0)\n"
   ]
  },
  {
   "cell_type": "code",
   "execution_count": 3,
   "id": "abe3195f",
   "metadata": {},
   "outputs": [],
   "source": [
    "#splitting data into train and test data\n",
    "x_train, x_test, y_train, y_test = train_test_split(x,y, random_state=42,test_size=0.2)"
   ]
  },
  {
   "cell_type": "code",
   "execution_count": 4,
   "id": "95f2ee6d",
   "metadata": {},
   "outputs": [
    {
     "data": {
      "text/plain": [
       "0.7555"
      ]
     },
     "execution_count": 4,
     "metadata": {},
     "output_type": "execute_result"
    }
   ],
   "source": [
    "#fitting a decision tree model as a comparison source\n",
    "clf = DecisionTreeClassifier()\n",
    "clf.fit(x_train, y_train)\n",
    "y_pred = clf.predict(x_test)\n",
    "accuracy_score(y_test, y_pred)"
   ]
  },
  {
   "cell_type": "code",
   "execution_count": 7,
   "id": "042b5924",
   "metadata": {},
   "outputs": [
    {
     "data": {
      "text/plain": [
       "0.7965"
      ]
     },
     "execution_count": 7,
     "metadata": {},
     "output_type": "execute_result"
    }
   ],
   "source": [
    "#lets do compare the accuracy score fors different ensemble models\n",
    "#first we go wth the Randomforestclassifier\n",
    "clf = RandomForestClassifier(n_estimators=100, max_features='auto', random_state=0) #we use n_estimators beacuse we have split teh tree into n number of branches\n",
    "clf.fit(x_train, y_train)\n",
    "y_pred= clf.predict(x_test)\n",
    "accuracy_score(y_test, y_pred)\n",
    "#we can see the there is increase in the accuracy score"
   ]
  },
  {
   "cell_type": "code",
   "execution_count": 8,
   "id": "1a29dc5f",
   "metadata": {},
   "outputs": [
    {
     "data": {
      "text/plain": [
       "0.833"
      ]
     },
     "execution_count": 8,
     "metadata": {},
     "output_type": "execute_result"
    }
   ],
   "source": [
    "#now lets do with Adaboosting classifer with same parameters\n",
    "clf = AdaBoostClassifier(n_estimators=100, random_state=0)\n",
    "clf.fit(x_train, y_train)\n",
    "y_pred = clf.predict(x_test)\n",
    "accuracy_score(y_test, y_pred)\n",
    "#as an advance technique we can increse in accuracy "
   ]
  },
  {
   "cell_type": "code",
   "execution_count": 9,
   "id": "a5e3ab0f",
   "metadata": {},
   "outputs": [
    {
     "data": {
      "text/plain": [
       "0.8335"
      ]
     },
     "execution_count": 9,
     "metadata": {},
     "output_type": "execute_result"
    }
   ],
   "source": [
    "#lets do it with another tecchnique called Gradient Boosting classifier\n",
    "clf = GradientBoostingClassifier(n_estimators=100, random_state=0)\n",
    "clf.fit(x_train, y_train)\n",
    "y_pred = clf.predict(x_test)\n",
    "accuracy_score(y_test, y_pred)\n",
    "#we can there is no change in the score as these two models are "
   ]
  }
 ],
 "metadata": {
  "kernelspec": {
   "display_name": "Python 3 (ipykernel)",
   "language": "python",
   "name": "python3"
  },
  "language_info": {
   "codemirror_mode": {
    "name": "ipython",
    "version": 3
   },
   "file_extension": ".py",
   "mimetype": "text/x-python",
   "name": "python",
   "nbconvert_exporter": "python",
   "pygments_lexer": "ipython3",
   "version": "3.9.12"
  }
 },
 "nbformat": 4,
 "nbformat_minor": 5
}
